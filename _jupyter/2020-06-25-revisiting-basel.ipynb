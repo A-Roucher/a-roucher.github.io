{
 "cells": [
  {
   "cell_type": "markdown",
   "metadata": {},
   "source": [
    "In the [last post](https://jaketae.github.io/study/zeta-prime/), we revisited the Riemann Zeta function, which we had briefly introduced in [another previous post](https://jaketae.github.io/study/basel-zeta/) on Euler's take on the famous [Basel problem](https://en.wikipedia.org/wiki/Basel_problem). It seems like math is my jam nowadays, so I decided to write another post on this topic---but this time, with some slightly different takes. \n",
    "\n",
    "First up on the list is Fourier series and the Dirichlet Eta function. Specifically, we will explore an alternative way of solving the Basel problem using Fourier expansion, and how it also lends insight into the convergence of the Dirichlet Eta function. Second, we will take a look at one way of expresisng the Basel problem into an integral instead of an infinite sum, and attempt to evaluate that integral to solve the Basel problem. \n",
    "\n",
    "Now that the roadmaps are clear, let's get started."
   ]
  },
  {
   "cell_type": "markdown",
   "metadata": {},
   "source": [
    "# Basel Problem\n",
    "\n",
    "First, let's recall what the Basel problem is. The problem is quite simple: the goal is to obtain the value of an infinite series, namely\n",
    "\n",
    "$$\n",
    "\\sum_{n = 1}^\\infty \\frac{1}{n^2} = 1 + \\frac{1}{2^2} + \\frac{1}{3^2} + \\cdots \\tag{1}\n",
    "$$"
   ]
  },
  {
   "cell_type": "markdown",
   "metadata": {},
   "source": [
    "This seems like an innocuous, straightforward problem. One can easily prove, for instance, the fact that this series converges using integral approximation. However, to obtain the value of this series is a lot more difficult than it appears---it is no coincidence that this problem remained unsolved for years until Euler came along. \n",
    "\n",
    "While there are many ways to solve this problem---Euler's method, in particular, is one of the countless examples through which one can witness his amazing intuition and heuristic---but we will be using Fourier expansion to solve this problem, as it also provides a nice segway into the Dirichelt Eta function."
   ]
  },
  {
   "cell_type": "markdown",
   "metadata": {},
   "source": [
    "# Fourier Expansion\n",
    "\n",
    "We explored the topic of Fourier expansion in [this previous post](http://jaketae.github.io/study/fourier/). To recap, from a very high level, Fourier expansion is a way of expressing some function in terms of trigonoometric functions. If Taylor expansion used polynomials as the building block, Fourier expansion uses sines and cosines. \n",
    "\n",
    "A generic formula for the Fourier transform can be expressed as follows:\n",
    "\n",
    "$$\n",
    "\\begin{align}\n",
    "f(x) \n",
    "&= \\sum_{n = 0}^\\infty a_n \\cos \\left( \\frac{2 \\pi n}{P} x \\right) + b_n \\sin \\left( \\frac{2 \\pi n}{P} x \\right) \\\\\n",
    "&= a_0 + \\sum_{n = 1}^\\infty a_n \\cos \\left( \\frac{2 \\pi n}{P} x \\right) + \\sum_{n = 1}^\\infty b_n \\sin \\left( \\frac{2 \\pi n}{P} x \\right)\n",
    "\\end{align} \\tag{2}\n",
    "$$\n"
   ]
  },
  {
   "cell_type": "markdown",
   "metadata": {},
   "source": [
    "With some integration, it can be shown that\n",
    "\n",
    "$$\n",
    "a_n = \\frac{2}{P} \\int_{P} f(x) \\cos(n x) \\, dx \\tag{3}\n",
    "$$"
   ]
  },
  {
   "cell_type": "markdown",
   "metadata": {},
   "source": [
    "where $P$ refers to the domain of integration. For instance, if we are integrating from $- \\pi$ to $\\pi$, $P = 2 \\pi$. A classic interval that is most commonly used is $[- \\pi, \\pi]$, and this is no coincidence: notice that, when $P = 2 \\pi$, the Taylor series shown in (2) simplifies into the following:\n",
    "\n",
    "$$\n",
    "f(x) = a_0 + \\sum_{n = 1}^\\infty a_n \\cos(n x) + \\sum_{n = 1}^\\infty b_n \\sin(n x)\\tag{4}\n",
    "$$\n",
    "\n",
    "And indeed this is the format and the interval we will be using when constructing a Fourier series to tackle the Basel problem."
   ]
  },
  {
   "cell_type": "markdown",
   "metadata": {},
   "source": [
    "To conitnue, we can derive a very similar expression for $b_n$:\n",
    "\n",
    "$$\n",
    "b_n = \\frac{2}{P} \\int_{P} f(x) \\sin(n x) \\, dx \\tag{5}\n",
    "$$"
   ]
  },
  {
   "cell_type": "markdown",
   "metadata": {},
   "source": [
    "And last but not least, let's go over the formula for $a_0$. Note that $a_0$ is a result of having the index of the sigma summation expression start from 1. If we began from 0, we would be able to safely put the $a_0$ term into the sigma expresison as well. However, this is trivial since at index 0, $\\cos(0)$ evalutes to 1, simply leaving the constant $a_0$ as we already have it. On a somewhat related note, notice that the sine terms could also begin from 0, but such would again be meaningless as $\\sin(0)$ evaluates to 0, effectively eliminating $b_0$. \n",
    "\n",
    "$$\n",
    "a_0 = \\frac{2}{P} \\int_{p} f(x) \\, dx \\tag{6}\n",
    "$$\n",
    "\n",
    "Notice that this follows immediately from (3). \n",
    "\n",
    "Now that we have reviewed what Fourier series is and how we can construct it, let's jump into the Basel problem."
   ]
  },
  {
   "cell_type": "markdown",
   "metadata": {},
   "source": [
    "## Fourier Series of $x^2$\n",
    "\n",
    "Just like the Taylor series, we can use Fourier expansion to represent any function continuous function. For our purposes, let's try to expand a simple polynomial function, $f(x) = x^2$, using Fourier. "
   ]
  },
  {
   "cell_type": "markdown",
   "metadata": {},
   "source": [
    "# ...\n",
    "\n",
    "https://www.youtube.com/watch?v=yKVivOhJNRw&list=PLN2B6ZNu6xmdjskJv1udeELylfN-0Muqh&index=70\n"
   ]
  }
 ],
 "metadata": {
  "kernelspec": {
   "display_name": "Basic",
   "language": "python",
   "name": "basic"
  },
  "language_info": {
   "codemirror_mode": {
    "name": "ipython",
    "version": 3
   },
   "file_extension": ".py",
   "mimetype": "text/x-python",
   "name": "python",
   "nbconvert_exporter": "python",
   "pygments_lexer": "ipython3",
   "version": "3.7.5"
  }
 },
 "nbformat": 4,
 "nbformat_minor": 4
}
